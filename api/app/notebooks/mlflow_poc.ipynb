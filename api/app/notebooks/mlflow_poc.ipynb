{
 "cells": [
  {
   "cell_type": "code",
   "execution_count": null,
   "metadata": {},
   "outputs": [],
   "source": [
    "from mlflow import MlflowClient\n",
    "import os"
   ]
  },
  {
   "cell_type": "code",
   "execution_count": null,
   "metadata": {},
   "outputs": [],
   "source": [
    "os.environ[\"NO_PROXY\"] = \"10.156.210.226\"\n"
   ]
  },
  {
   "cell_type": "code",
   "execution_count": null,
   "metadata": {},
   "outputs": [],
   "source": [
    "mlflow_client = MlflowClient(tracking_uri=\"http://10.156.210.226:5011\")"
   ]
  },
  {
   "cell_type": "code",
   "execution_count": null,
   "metadata": {},
   "outputs": [],
   "source": [
    "experiment_description = (\n",
    "    \"This is the grocery forecasting project. \"\n",
    "    \"This experiment contains the produce models for apples.\"\n",
    ")\n",
    "\n",
    "experiment_tags = {\n",
    "    \"project_name\": \"grocery-forecasting\",\n",
    "    \"store_dept\": \"produce\",\n",
    "    \"team\": \"stores-ml\",\n",
    "    \"project_quarter\": \"Q3-2023\",\n",
    "    \"mlflow.note.content\": experiment_description,\n",
    "}\n",
    "\n",
    "produce_apples_experiment = mlflow_client.create_experiment(name=\"Apple_Models\", tags=experiment_tags)\n"
   ]
  },
  {
   "cell_type": "code",
   "execution_count": null,
   "metadata": {},
   "outputs": [],
   "source": [
    "all_experiments = mlflow_client.search_experiments()"
   ]
  },
  {
   "cell_type": "code",
   "execution_count": null,
   "metadata": {},
   "outputs": [],
   "source": [
    "all_experiments[0].name"
   ]
  },
  {
   "cell_type": "code",
   "execution_count": null,
   "metadata": {},
   "outputs": [],
   "source": [
    "from mlflow import MlflowClient\n",
    "import mlflow\n",
    "import os\n",
    "from typing import Dict, Any\n",
    "def create_rag_experiment() -> bool:\n",
    "\n",
    "    #Check if the experiment rag_caradoc already exist\n",
    "    all_experiments_name = [e.name for e in mlflow_client.search_experiments()]\n",
    "    if \"rag_caradoc\" in all_experiments_name :\n",
    "        return True\n",
    "    else :\n",
    "        try :\n",
    "            # Create rag experiment\n",
    "            experiment_description = (\n",
    "                \"This is an experiment to log Caradoc RAG application evaluation\"\n",
    "            )\n",
    "\n",
    "            experiment_tags = {\n",
    "                \"project_name\": \"CARADOC\",\n",
    "                \"mlflow.note.content\": experiment_description,\n",
    "            }\n",
    "\n",
    "            rag_caradoc_experiment = mlflow_client.create_experiment(name=\"rag_caradoc\", tags=experiment_tags)\n",
    "            return True\n",
    "        except Exception as e :\n",
    "            print(e)\n",
    "            return False\n",
    "\n",
    "def log_rag_metrics(run_name : str, params : Dict[str, Any], metrics : Dict[str, float]):\n",
    "    # Create experiement if it doesnot\n",
    "    flag = create_rag_experiment()\n",
    "    if flag :\n",
    "        mlflow.set_tracking_uri(os.getenv(\"MLFLOW_URI\"))\n",
    "        mlflow.set_experiment(\"rag_caradoc\")\n",
    "        with mlflow.start_run(run_name= run_name) as run :\n",
    "            mlflow.log_params(params)\n",
    "            for key, val in metrics.items():\n",
    "                mlflow.log_metric(key, val)\n",
    "    else : \n",
    "        raise(\"Impossible to create and connect to the mlflow CARADOC experiment\")"
   ]
  },
  {
   "cell_type": "code",
   "execution_count": null,
   "metadata": {},
   "outputs": [],
   "source": [
    "log_rag_metrics(run_name=\"test\", params={\"test\":\"test\"}, metrics={\"test_metric\": 0.5})"
   ]
  },
  {
   "cell_type": "code",
   "execution_count": null,
   "metadata": {},
   "outputs": [],
   "source": []
  }
 ],
 "metadata": {
  "kernelspec": {
   "display_name": "ayd-api",
   "language": "python",
   "name": "ayd-api"
  },
  "language_info": {
   "codemirror_mode": {
    "name": "ipython",
    "version": 3
   },
   "file_extension": ".py",
   "mimetype": "text/x-python",
   "name": "python",
   "nbconvert_exporter": "python",
   "pygments_lexer": "ipython3",
   "version": "3.10.13"
  }
 },
 "nbformat": 4,
 "nbformat_minor": 2
}
