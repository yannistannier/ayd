{
 "cells": [
  {
   "cell_type": "code",
   "execution_count": null,
   "metadata": {},
   "outputs": [],
   "source": [
    "import qdrant_client\n",
    "from qdrant_client.http import models"
   ]
  },
  {
   "cell_type": "markdown",
   "metadata": {},
   "source": [
    "### Notebook prise en main Qdrant\n",
    "\n",
    "L'objectif de ce notebook est de proposer un tutoriel dans lequel on retrouve toutes les opérations relatives à la gestion d'un index"
   ]
  },
  {
   "cell_type": "code",
   "execution_count": null,
   "metadata": {},
   "outputs": [],
   "source": [
    "# Initialisation du client\n",
    "client_qdrant = qdrant_client.QdrantClient(\n",
    "    \"http://localhost:6333\",\n",
    ")"
   ]
  },
  {
   "cell_type": "code",
   "execution_count": null,
   "metadata": {},
   "outputs": [],
   "source": [
    "# Affichage des données\n",
    "data = client_qdrant.scroll(\n",
    "    collection_name=\"qdr\",\n",
    "    limit=1000, # Conditionne le nombre de ligne afficher\n",
    "    with_payload=True,\n",
    "    with_vectors=True,\n",
    ")"
   ]
  },
  {
   "cell_type": "code",
   "execution_count": null,
   "metadata": {},
   "outputs": [],
   "source": []
  },
  {
   "cell_type": "code",
   "execution_count": null,
   "metadata": {},
   "outputs": [],
   "source": []
  },
  {
   "cell_type": "markdown",
   "metadata": {},
   "source": [
    "Dans Qdrant, le plus haut niveau d'abstraction s'effectue au niveau du concept de \"collection\". Cela permet d'instancier par exemple des instances de dev, de preprod et de prod pour une application sur une même instance Qdrant. Il n'est pas recommander par Qdrant d'utiliser les collections comme des bases de données car leur multiplication pourrait entraîner une baisse de performance. "
   ]
  },
  {
   "cell_type": "code",
   "execution_count": null,
   "metadata": {},
   "outputs": [],
   "source": [
    "client_qdrant.create_collection(\n",
    "    collection_name=\"qdr\",\n",
    "    vectors_config=models.VectorParams(size=1536, distance=models.Distance.COSINE),\n",
    "    hnsw_config=models.HnswConfigDiff(\n",
    "        payload_m=16,\n",
    "        m=0,\n",
    "    ),\n",
    ")"
   ]
  },
  {
   "cell_type": "markdown",
   "metadata": {},
   "source": [
    "Ici, on vient créer une collection supportant le multitenancy i.e la création de plusieurs indexs de manière optimisée"
   ]
  },
  {
   "cell_type": "code",
   "execution_count": null,
   "metadata": {},
   "outputs": [],
   "source": [
    "# Récupération des noms des collections\n",
    "collections_name  = [c.name for c in client_qdrant.get_collections().collections]"
   ]
  },
  {
   "cell_type": "code",
   "execution_count": null,
   "metadata": {},
   "outputs": [],
   "source": [
    "collections_name"
   ]
  },
  {
   "cell_type": "markdown",
   "metadata": {},
   "source": [
    "Qdrant se dote d'un deuxième niveau d'abstraction : les index. C'est eux qui correspondent à notre collection dans l'application CARADOC."
   ]
  },
  {
   "cell_type": "code",
   "execution_count": null,
   "metadata": {},
   "outputs": [],
   "source": [
    "client_qdrant.create_payload_index(\n",
    "    collection_name=\"demo\",\n",
    "    field_name=\"datascience\",\n",
    "    field_schema=models.PayloadSchemaType.KEYWORD,\n",
    ")\n"
   ]
  },
  {
   "cell_type": "code",
   "execution_count": null,
   "metadata": {},
   "outputs": [],
   "source": [
    "client_qdrant.get_collection(\"demo\")"
   ]
  },
  {
   "cell_type": "code",
   "execution_count": null,
   "metadata": {},
   "outputs": [],
   "source": [
    "# ajout de données \n",
    "from qdrant_client.http.models import PointStruct\n",
    "operation_info = client_qdrant.upsert(\n",
    "    collection_name=\"demo\",\n",
    "    wait=True,\n",
    "    points=[\n",
    "        PointStruct(id=1, vector=[0 for i in range(1024)], payload={\"filename\": \"file1\", \"content\":\"part1\", \"index\":\"token\"}),\n",
    "        PointStruct(id=2, vector=[0 for i in range(1024)], payload={\"filename\": \"file1\", \"content\": \"part2\", \"index\": \"token\"}),\n",
    "        PointStruct(id=3, vector=[0 for i in range(1024)], payload={\"filename\": \"file2\", \"content\":\"part1\", \"index\":\"token\"}),\n",
    "    ],\n",
    ")"
   ]
  },
  {
   "cell_type": "code",
   "execution_count": null,
   "metadata": {},
   "outputs": [],
   "source": [
    "# Affichage des données\n",
    "data = client_qdrant.scroll(\n",
    "    collection_name=\"qdr\",\n",
    "    limit=1000, # Conditionne le nombre de ligne afficher\n",
    "    with_payload=True,\n",
    "    with_vectors=True,\n",
    ")"
   ]
  },
  {
   "cell_type": "code",
   "execution_count": null,
   "metadata": {},
   "outputs": [],
   "source": [
    "len(data[0][3].vector)"
   ]
  },
  {
   "cell_type": "code",
   "execution_count": null,
   "metadata": {},
   "outputs": [],
   "source": [
    "def clean_qdrant_index(index: str, collection_name: str = \"demo\"):\n",
    "    \"\"\"Function to clean user session document on Qdran\n",
    "\n",
    "    Args:\n",
    "        token (str): User token\n",
    "        collection_name (str, optional): Collection name in Qdrant. Defaults to \"ayd_dev\".\n",
    "    \"\"\"\n",
    "    try:\n",
    "        client_qdrant.delete(\n",
    "            collection_name=collection_name,\n",
    "            points_selector=models.FilterSelector(\n",
    "                filter=models.Filter(\n",
    "                    must=[\n",
    "                        models.FieldCondition(key=\"index\", match=models.MatchValue(value=str(index))),\n",
    "                    ],\n",
    "                )\n",
    "            ),\n",
    "        )\n",
    "    except Exception as e:\n",
    "        raise HTTPException(\n",
    "            status_code=status.HTTP_400_BAD_REQUEST,\n",
    "            detail=f\"An error occurred while removing sessions files in Qdrant - Error message: {e}\",\n",
    "        )"
   ]
  },
  {
   "cell_type": "code",
   "execution_count": null,
   "metadata": {},
   "outputs": [],
   "source": [
    "clean_qdrant_index(index=\"datascience\")"
   ]
  },
  {
   "cell_type": "code",
   "execution_count": null,
   "metadata": {},
   "outputs": [],
   "source": [
    "# Suppression de la collection\n",
    "client_qdrant.delete_collection(\"qdr\")"
   ]
  },
  {
   "cell_type": "code",
   "execution_count": null,
   "metadata": {},
   "outputs": [],
   "source": [
    "def clean_file_qdrant_index(index: str, filename: str):\n",
    "    \"\"\"\n",
    "    Removes a file from a specific qdrant index\n",
    "    :param index:\n",
    "    :param filename:\n",
    "    :return:\n",
    "    \"\"\"\n",
    "    try:\n",
    "        client_qdrant.delete(\n",
    "            collection_name=\"demo\",\n",
    "            points_selector=models.FilterSelector(\n",
    "                filter=models.Filter(\n",
    "                    must=[\n",
    "                        models.FieldCondition(\n",
    "                            key=\"index\",\n",
    "                            match=models.MatchValue(value=str(index)),\n",
    "                        ),\n",
    "                        models.FieldCondition(\n",
    "                            key=\"filename\",\n",
    "                            match=models.MatchValue(value=str(filename)),\n",
    "                        ),\n",
    "                    ],\n",
    "                )\n",
    "            ),\n",
    "        )\n",
    "    except Exception as e:\n",
    "        raise HTTPException(\n",
    "            status_code=status.HTTP_400_BAD_REQUEST,\n",
    "            detail=f\"An error occurred while removing sessions files in Qdrant - Error message: {e}\",\n",
    "        )\n"
   ]
  },
  {
   "cell_type": "code",
   "execution_count": null,
   "metadata": {},
   "outputs": [],
   "source": [
    "clean_file_qdrant_index(index=\"token\", filename=\"file1\")"
   ]
  },
  {
   "cell_type": "code",
   "execution_count": null,
   "metadata": {},
   "outputs": [],
   "source": [
    "from pymongo import MongoClient"
   ]
  },
  {
   "cell_type": "code",
   "execution_count": null,
   "metadata": {},
   "outputs": [],
   "source": [
    "mongo_client = MongoClient(\n",
    "        host = [ str(\"10.156.254.10\") + \":\" + str(27018) ],\n",
    "        serverSelectionTimeoutMS = 3000, # 3 second timeout\n",
    "        username = \"dev\",\n",
    "        password = \"dev\",\n",
    "    )\n"
   ]
  },
  {
   "cell_type": "code",
   "execution_count": null,
   "metadata": {},
   "outputs": [],
   "source": [
    "database_names = mongo_client.list_database_names()"
   ]
  },
  {
   "cell_type": "code",
   "execution_count": null,
   "metadata": {},
   "outputs": [],
   "source": [
    "mongo_client.get_database('local')"
   ]
  },
  {
   "cell_type": "code",
   "execution_count": null,
   "metadata": {},
   "outputs": [],
   "source": []
  }
 ],
 "metadata": {
  "interpreter": {
   "hash": "b5edb71fea777f5ba1c31428a417773fd00182f5d45b829a52bf159df63af2b4"
  },
  "kernelspec": {
   "display_name": "ayd-api",
   "language": "python",
   "name": "python3"
  },
  "language_info": {
   "codemirror_mode": {
    "name": "ipython",
    "version": 3
   },
   "file_extension": ".py",
   "mimetype": "text/x-python",
   "name": "python",
   "nbconvert_exporter": "python",
   "pygments_lexer": "ipython3",
   "version": "3.9.5"
  }
 },
 "nbformat": 4,
 "nbformat_minor": 4
}
